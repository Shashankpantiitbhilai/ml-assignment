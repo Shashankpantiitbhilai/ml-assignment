{
 "cells": [
  {
   "cell_type": "code",
   "execution_count": 1,
   "metadata": {},
   "outputs": [
    {
     "name": "stdout",
     "output_type": "stream",
     "text": [
      "1\n"
     ]
    }
   ],
   "source": [
    "import pandas as pd\n",
    "from sklearn.preprocessing import MinMaxScaler\n",
    "\n",
    "# Load the Wine Quality Data Set\n",
    "# Assuming the dataset is in a CSV file named 'winequality.csv'\n",
    "df = pd.read_csv('WineQT.csv')\n",
    "\n",
    "# Convert quality to binary values\n",
    "df['quality'] = df['quality'].apply(lambda x: 0 if x <= 6 else 1)\n",
    "\n",
    "# Separate features and target\n",
    "features = df.drop(columns=['quality'])\n",
    "target = df['quality']\n",
    "\n",
    "# Normalize features using Min-Max Scaling\n",
    "scaler = MinMaxScaler()\n",
    "normalized_features = scaler.fit_transform(features)\n",
    "\n",
    "# Create a new DataFrame with normalized features and the binary quality target\n",
    "normalized_df = pd.DataFrame(normalized_features, columns=features.columns)\n",
    "normalized_df['quality'] = target\n",
    "\n",
    "# Save the normalized data to a new CSV file\n",
    "normalized_df.to_csv('winequality_normalized.csv', index=False)\n"
   ]
  },
  {
   "cell_type": "code",
   "execution_count": 4,
   "metadata": {},
   "outputs": [
    {
     "name": "stdout",
     "output_type": "stream",
     "text": [
      "2\n"
     ]
    }
   ],
   "source": [
    "\n"
   ]
  }
 ],
 "metadata": {
  "kernelspec": {
   "display_name": "Python 3",
   "language": "python",
   "name": "python3"
  },
  "language_info": {
   "codemirror_mode": {
    "name": "ipython",
    "version": 3
   },
   "file_extension": ".py",
   "mimetype": "text/x-python",
   "name": "python",
   "nbconvert_exporter": "python",
   "pygments_lexer": "ipython3",
   "version": "3.11.2"
  }
 },
 "nbformat": 4,
 "nbformat_minor": 2
}
